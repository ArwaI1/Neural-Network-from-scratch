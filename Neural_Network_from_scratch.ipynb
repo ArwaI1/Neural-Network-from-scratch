{
  "nbformat": 4,
  "nbformat_minor": 0,
  "metadata": {
    "colab": {
      "provenance": []
    },
    "kernelspec": {
      "name": "python3",
      "display_name": "Python 3"
    },
    "language_info": {
      "name": "python"
    }
  },
  "cells": [
    {
      "cell_type": "code",
      "execution_count": null,
      "metadata": {
        "id": "sDM1W0JcRd3D"
      },
      "outputs": [],
      "source": [
        "import numpy as np\n",
        "import pandas as pd\n",
        "from sklearn.datasets import fetch_openml\n",
        "from sklearn.model_selection import train_test_split\n",
        "from sklearn.metrics import accuracy_score\n",
        "import matplotlib.pyplot as plt\n",
        "from sklearn.metrics import confusion_matrix"
      ]
    },
    {
      "cell_type": "code",
      "source": [
        "# Define the activation function\n",
        "def sigmoid(x):\n",
        "    return 1 / (1 + np.exp(-x))"
      ],
      "metadata": {
        "id": "rFhulWxxSWQh"
      },
      "execution_count": null,
      "outputs": []
    },
    {
      "cell_type": "code",
      "source": [
        "# Define the derivative of the activation function\n",
        "def sigmoid_derivative(x):\n",
        "    return sigmoid(x) * (1 - sigmoid(x))"
      ],
      "metadata": {
        "id": "Y7eAeh96SkpG"
      },
      "execution_count": null,
      "outputs": []
    },
    {
      "cell_type": "code",
      "source": [
        "# Initialize parameters\n",
        "def initialize_parameters(input_size, hidden_size, output_size):\n",
        "    W1 = np.random.randn(input_size, hidden_size)\n",
        "    b1 = np.zeros((1, hidden_size))\n",
        "    W2 = np.random.randn(hidden_size, output_size)\n",
        "    b2 = np.zeros((1, output_size))\n",
        "    return W1, b1, W2, b2"
      ],
      "metadata": {
        "id": "ud6vhKmeSncq"
      },
      "execution_count": null,
      "outputs": []
    },
    {
      "cell_type": "code",
      "source": [
        "# Feedforward process\n",
        "def feedforward(X, W1, b1, W2, b2):\n",
        "    z1 = np.dot(X, W1) + b1\n",
        "    a1 = sigmoid(z1)\n",
        "    z2 = np.dot(a1, W2) + b2\n",
        "    a2 = sigmoid(z2)\n",
        "    return a1, a2"
      ],
      "metadata": {
        "id": "Dg0bGS7ISrR1"
      },
      "execution_count": null,
      "outputs": []
    },
    {
      "cell_type": "code",
      "source": [
        "# Backpropagation\n",
        "def backpropagation(X, y, W1, b1, W2, b2, a1, a2):\n",
        "    m = X.shape[0]  # examples no\n",
        "    dz2 = a2 - y\n",
        "    dW2 = np.dot(a1.T, dz2) / m\n",
        "    db2 = np.sum(dz2, axis=0, keepdims=True) / m\n",
        "    dz1 = np.dot(dz2, W2.T) * sigmoid_derivative(a1)\n",
        "    dW1 = np.dot(X.T, dz1) / m\n",
        "    db1 = np.sum(dz1, axis=0, keepdims=True) / m\n",
        "    return dW1, db1, dW2, db2"
      ],
      "metadata": {
        "id": "v8KriNiHSv7G"
      },
      "execution_count": null,
      "outputs": []
    },
    {
      "cell_type": "code",
      "source": [
        "# Update parameters\n",
        "def update_parameters(W1, b1, W2, b2, dW1, db1, dW2, db2, learning_rate):\n",
        "    W1 -= learning_rate * dW1\n",
        "    b1 -= learning_rate * db1\n",
        "    W2 -= learning_rate * dW2\n",
        "    b2 -= learning_rate * db2\n",
        "    return W1, b1, W2, b2"
      ],
      "metadata": {
        "id": "0jl54HS0S3lJ"
      },
      "execution_count": null,
      "outputs": []
    },
    {
      "cell_type": "code",
      "source": [
        "# Train the neural network\n",
        "def train_neural_network(X_train, y_train, input_size, hidden_size, output_size, learning_rate, epochs):\n",
        "    W1, b1, W2, b2 = initialize_parameters(input_size, hidden_size, output_size)\n",
        "    for epoch in range(epochs):\n",
        "        a1, a2 = feedforward(X_train, W1, b1, W2, b2)\n",
        "        dW1, db1, dW2, db2 = backpropagation(X_train, y_train, W1, b1, W2, b2, a1, a2)\n",
        "        W1, b1, W2, b2 = update_parameters(W1, b1, W2, b2, dW1, db1, dW2, db2, learning_rate)\n",
        "\n",
        "        if (epoch + 1) % 100 == 0:  # Print accuracy every 100 epochs\n",
        "            _, a2_test = feedforward(X_test, W1, b1, W2, b2)\n",
        "            y_pred_labels = np.argmax(a2_test, axis=1)\n",
        "            accuracy = accuracy_score(y_test.astype(int), y_pred_labels)\n",
        "            print(f\"Epoch {epoch+1}/{epochs} - Accuracy: {accuracy*100:.2f}%\")\n",
        "\n",
        "    return W1, b1, W2, b2"
      ],
      "metadata": {
        "id": "gkCIXouBS6z4"
      },
      "execution_count": null,
      "outputs": []
    },
    {
      "cell_type": "code",
      "source": [
        "def test_neural_network(X_test, y_test, W1, b1, W2, b2):\n",
        "    _, a2 = feedforward(X_test, W1, b1, W2, b2)\n",
        "    y_pred_labels = np.argmax(a2, axis=1)\n",
        "    accuracy = accuracy_score(y_test.astype(int), y_pred_labels)\n",
        "    confusion_mat = confusion_matrix(y_test.astype(int), y_pred_labels)\n",
        "    return accuracy, confusion_mat"
      ],
      "metadata": {
        "id": "HDr7d0aeS-Nu"
      },
      "execution_count": null,
      "outputs": []
    },
    {
      "cell_type": "code",
      "source": [
        "# Load MNIST dataset and preprocess\n",
        "mnist = fetch_openml('mnist_784')\n",
        "X = mnist.data\n",
        "y = mnist.target\n",
        "\n",
        "sample_size = 10000\n",
        "X_sample, _, y_sample, _ = train_test_split(X, y, train_size=sample_size, random_state=42)\n",
        "\n",
        "X_train, X_test, y_train, y_test = train_test_split(X_sample, y_sample, test_size=0.2, random_state=42)\n",
        "\n",
        "y_train_encoded = pd.get_dummies(y_train).values\n",
        "X_train = X_train / 255.0\n",
        "X_test = X_test / 255.0"
      ],
      "metadata": {
        "colab": {
          "base_uri": "https://localhost:8080/"
        },
        "id": "OQwnH0lzTj8V",
        "outputId": "196195ee-7684-43d8-eb6a-7d654ef05d90"
      },
      "execution_count": null,
      "outputs": [
        {
          "output_type": "stream",
          "name": "stderr",
          "text": [
            "/usr/local/lib/python3.10/dist-packages/sklearn/datasets/_openml.py:968: FutureWarning: The default value of `parser` will change from `'liac-arff'` to `'auto'` in 1.4. You can set `parser='auto'` to silence this warning. Therefore, an `ImportError` will be raised from 1.4 if the dataset is dense and pandas is not installed. Note that the pandas parser may return different data types. See the Notes Section in fetch_openml's API doc for details.\n",
            "  warn(\n"
          ]
        }
      ]
    },
    {
      "cell_type": "code",
      "source": [
        "#network architecture\n",
        "input_size = X_train.shape[1]\n",
        "hidden_size = 64\n",
        "output_size = y_train_encoded.shape[1]"
      ],
      "metadata": {
        "id": "_b9iYp0dTknx"
      },
      "execution_count": null,
      "outputs": []
    },
    {
      "cell_type": "code",
      "source": [
        "# Train model\n",
        "learning_rate = 1\n",
        "epochs = 1000\n",
        "W1, b1, W2, b2 = train_neural_network(X_train, y_train_encoded, input_size, hidden_size, output_size, learning_rate, epochs)"
      ],
      "metadata": {
        "colab": {
          "base_uri": "https://localhost:8080/"
        },
        "id": "KwBo1-bJTtS5",
        "outputId": "a34c4f8d-46de-43d8-f3aa-22d1a4468944"
      },
      "execution_count": null,
      "outputs": [
        {
          "output_type": "stream",
          "name": "stdout",
          "text": [
            "Epoch 100/1000 - Accuracy: 81.65%\n",
            "Epoch 200/1000 - Accuracy: 84.85%\n",
            "Epoch 300/1000 - Accuracy: 86.15%\n",
            "Epoch 400/1000 - Accuracy: 86.95%\n",
            "Epoch 500/1000 - Accuracy: 87.05%\n",
            "Epoch 600/1000 - Accuracy: 87.50%\n",
            "Epoch 700/1000 - Accuracy: 88.10%\n",
            "Epoch 800/1000 - Accuracy: 88.85%\n",
            "Epoch 900/1000 - Accuracy: 88.65%\n",
            "Epoch 1000/1000 - Accuracy: 88.60%\n"
          ]
        }
      ]
    },
    {
      "cell_type": "code",
      "source": [
        "accuracy, confusion = test_neural_network(X_test, y_test, W1, b1, W2, b2)\n",
        "print(\"Final Accuracy:\", accuracy*100,\"%\")\n",
        "print(\"Confusion Matrix:\")\n",
        "print(confusion)"
      ],
      "metadata": {
        "colab": {
          "base_uri": "https://localhost:8080/"
        },
        "id": "Gp_Fx6QphUFU",
        "outputId": "7678a7d1-a749-4fc9-f485-1bfcd47039e5"
      },
      "execution_count": null,
      "outputs": [
        {
          "output_type": "stream",
          "name": "stdout",
          "text": [
            "Final Accuracy: 88.6 %\n",
            "Confusion Matrix:\n",
            "[[185   0   1   1   0   1   0   1   4   0]\n",
            " [  0 227   4   3   0   1   0   2   6   0]\n",
            " [  3   1 172   3   1   1   1   2   6   0]\n",
            " [  1   1   2 164   0   2   0   2   6   4]\n",
            " [  0   0   0   0 172   0   1   0   3  11]\n",
            " [  2   1   2  17   4 148   0   1  11   4]\n",
            " [  1   1   3   1   5   4 203   0   2   1]\n",
            " [  1   6   3   4   2   1   0 182   0   9]\n",
            " [  5   4   6   5   3   3   1   0 163   7]\n",
            " [  2   1   1   1  11   1   0  13   3 156]]\n"
          ]
        }
      ]
    },
    {
      "cell_type": "code",
      "source": [
        "# Convert test data to NumPy arrays for indexing\n",
        "X_test_np = X_test.to_numpy()\n",
        "y_test_np = y_test.to_numpy()\n",
        "\n",
        "num_samples = 5\n",
        "random_indices = np.random.choice(X_test_np.shape[0], num_samples, replace=False)\n",
        "sample_images = X_test_np[random_indices]\n",
        "sample_labels = y_test_np[random_indices]\n",
        "\n",
        "_, sample_predictions = feedforward(sample_images, W1, b1, W2, b2)\n",
        "predicted_labels = np.argmax(sample_predictions, axis=1)\n",
        "\n",
        "# Plot\n",
        "plt.figure(figsize=(12, 6))\n",
        "for i in range(num_samples):\n",
        "    plt.subplot(1, num_samples, i + 1)\n",
        "    plt.imshow(sample_images[i].reshape(28, 28), cmap='gray')\n",
        "    plt.title(f\"True: {sample_labels[i]}, Pred: {predicted_labels[i]}\")\n",
        "    plt.axis('off')\n",
        "\n",
        "plt.show()\n"
      ],
      "metadata": {
        "colab": {
          "base_uri": "https://localhost:8080/",
          "height": 219
        },
        "id": "wRktMbOMT5nM",
        "outputId": "d6f5e2bc-9fd0-4897-feac-4b21cefb6c46"
      },
      "execution_count": null,
      "outputs": [
        {
          "output_type": "display_data",
          "data": {
            "text/plain": [
              "<Figure size 1200x600 with 5 Axes>"
            ],
            "image/png": "[encoded data removed]"
          },
          "metadata": {}
        }
      ]
    }
  ]
}